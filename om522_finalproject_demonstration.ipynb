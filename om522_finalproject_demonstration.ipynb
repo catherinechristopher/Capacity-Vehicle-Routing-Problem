{
 "cells": [
  {
   "cell_type": "markdown",
   "metadata": {},
   "source": [
    "## CVRP Package Demo\n",
    "\n",
    "In this document we will demonstrate the usage of our project by:  \n",
    "* solving a single instance of the CVRP \n",
    "* testing multiple optimization parameters and problems\n",
    "* varying a single parameter to generate data"
   ]
  },
  {
   "cell_type": "code",
   "execution_count": null,
   "metadata": {},
   "outputs": [],
   "source": [
    "from cvrp_class import CVRP\n",
    "import pandas as pd\n",
    "import datetime\n",
    "import matplotlib.pyplot as plt"
   ]
  },
  {
   "cell_type": "markdown",
   "metadata": {},
   "source": [
    "Below, we instantiate a CVRP object to solve the Georgia subproblem. We select the first DC, allow for math programming solutions of the vehicle subproblems, and set our distance matrix to be generated from data pulled from the Google Distance Matrix API. We then plot the solution using the built in method `get_vrp_plot()`"
   ]
  },
  {
   "cell_type": "code",
   "execution_count": null,
   "metadata": {},
   "outputs": [],
   "source": [
    "model = CVRP(state = 'GA',\n",
    "             dc_index = 0,\n",
    "             vehicle_capacity = 30000,\n",
    "             optimal_routing = True,\n",
    "             google_dr_dist = True)\n",
    "\n",
    "model.solve(method = 'clark-wright',\n",
    "           verbose = True)\n",
    "model.get_vrp_plot()"
   ]
  },
  {
   "cell_type": "markdown",
   "metadata": {},
   "source": [
    "Below, we gather data on all solutions procedures discussed in our presentation. Runtime was aproximately 1 hr, with the ~ 50k required calls to the Google Distance Matrix API being the bottleneck."
   ]
  },
  {
   "cell_type": "code",
   "execution_count": null,
   "metadata": {},
   "outputs": [],
   "source": [
    "test_states = ['CA','TX','NY','GA','AL']\n",
    "\n",
    "full_start = datetime.datetime.now()\n",
    "\n",
    "results_list = []\n",
    "for state in test_states:\n",
    "    print(f'State: {state}')\n",
    "    for google_bool in [True,False]:\n",
    "        \n",
    "        if state == 'CA' and google_bool == False:\n",
    "            break\n",
    "        if state == 'TX' and google_bool == False:\n",
    "            break\n",
    "        \n",
    "        if state == 'CA' or state == 'TX':\n",
    "            google_bool = False\n",
    "            print(f'Changing {state} bool to false')\n",
    "        test = CVRP(state,\n",
    "                    dc_index = 0,\n",
    "                    vehicle_capacity = 30000,\n",
    "                    optimal_routing = False,\n",
    "                    google_dr_dist = google_bool)\n",
    "        print(f'Google Bool: {test.google_dr_dist}')\n",
    "        for dc in [0,1]:\n",
    "            test.dc_index = dc\n",
    "            print(f'DC: {dc}')\n",
    "            \n",
    "            for alg in ['Sweep','Clark-Wright']:\n",
    "                print(f'Method:{alg}')\n",
    "                for routing in [False,True]:\n",
    "                    print(f'Opt Routing: {routing}')\n",
    "                    \n",
    "                    test.optimal_routing = routing\n",
    "                    start_time = datetime.datetime.now()\n",
    "                \n",
    "                    test.solve(alg,verbose = False)\n",
    "                    \n",
    "                    runtime = datetime.datetime.now() - start_time\n",
    "                    runtime = runtime.total_seconds()\n",
    "                    \n",
    "                    temp_list = []\n",
    "                    temp_list.append(state)\n",
    "                    temp_list.append(test.current_dc)\n",
    "                    temp_list.append(google_bool)\n",
    "                    temp_list.append(alg)\n",
    "                    temp_list.append(routing)\n",
    "                    temp_list.append(test.num_vehicles)\n",
    "                    temp_list.append(test.total_time)\n",
    "                    temp_list.append(test.total_cost)\n",
    "                    temp_list.append(runtime)\n",
    "                    \n",
    "                    results_list.append(temp_list)\n",
    "                \n",
    "                \n",
    "df= pd.DataFrame(results_list)\n",
    "    \n",
    "#df = df.transpose()\n",
    "df.columns = ['State',\n",
    "              'DC',\n",
    "              'Real Distances',\n",
    "              'Method',\n",
    "              'Optimal Vehicle Routing',\n",
    "              '# of Vehicles',\n",
    "              'Total Time',\n",
    "              'Total Cost',\n",
    "              'Runtime']\n",
    "    \n",
    "df['Runtime'] = df['Runtime'].apply('{:,.2f}'.format)\n",
    "df['Total Cost'] = df['Total Cost'].apply('{:,.2f}'.format)\n",
    "df['Total Time'] = df['Total Time'].apply('{:,.2f}'.format)\n",
    "df = df.sort_values(['State','Total Cost'])\n",
    "\n",
    "print(df)\n",
    "\n",
    "df.to_csv('all_results.csv')\n",
    "\n",
    "print(datetime.datetime.now()-full_start)"
   ]
  },
  {
   "cell_type": "markdown",
   "metadata": {},
   "source": [
    "Below, we investigate the the effect of capacity on the best-tested soltuion precedure in Alabama."
   ]
  },
  {
   "cell_type": "code",
   "execution_count": null,
   "metadata": {},
   "outputs": [],
   "source": [
    "model = CVRP('AL',\n",
    "             dc_index = 1,\n",
    "             vehicle_capacity = 10000,\n",
    "             optimal_routing = True,\n",
    "             google_dr_dist = True)\n",
    "\n",
    "data_dict = {}\n",
    "\n",
    "for capacity in range(10000,51000,1000):\n",
    "    model.vehicle_capacity = capacity\n",
    "    model.solve('clark-wright',verbose = True)\n",
    "    data_dict[capacity] = model.total_cost\n",
    "\n",
    "\n",
    "\n",
    "df = pd.DataFrame.from_dict(data_dict,orient='index')\n",
    "\n",
    "df.to_csv('capacity_investigation_alabama_raw_data.csv')"
   ]
  },
  {
   "cell_type": "markdown",
   "metadata": {},
   "source": [
    "Below, we plot the data found in the capacity experiment."
   ]
  },
  {
   "cell_type": "code",
   "execution_count": null,
   "metadata": {
    "scrolled": false
   },
   "outputs": [],
   "source": [
    "df = pd.read_csv('capacity_investigation_alabama_raw_data.csv')\n",
    "\n",
    "df.columns = ['Vehicle Capacity','Total Cost']\n",
    "\n",
    "df = df.set_index('Vehicle Capacity')\n",
    "\n",
    "plt.style.use('ggplot')\n",
    "fig, ax = plt.subplots(1,1, figsize=(12, 9))\n",
    "\n",
    "ax.title.set_text('Total Cost vs. Vehicle Capacity')\n",
    "ax.plot(df)\n",
    "ax.set_xlabel('Vehicle Capacity')\n",
    "ax.set_ylabel('Total Cost $')\n",
    "plt.show()"
   ]
  }
 ],
 "metadata": {
  "kernelspec": {
   "display_name": "Python 3",
   "language": "python",
   "name": "python3"
  },
  "language_info": {
   "codemirror_mode": {
    "name": "ipython",
    "version": 3
   },
   "file_extension": ".py",
   "mimetype": "text/x-python",
   "name": "python",
   "nbconvert_exporter": "python",
   "pygments_lexer": "ipython3",
   "version": "3.7.3"
  }
 },
 "nbformat": 4,
 "nbformat_minor": 2
}
